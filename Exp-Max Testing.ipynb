{
 "cells": [
  {
   "cell_type": "code",
   "execution_count": 1,
   "metadata": {},
   "outputs": [
    {
     "name": "stderr",
     "output_type": "stream",
     "text": [
      "Using TensorFlow backend.\n"
     ]
    }
   ],
   "source": [
    "import pandas as pd\n",
    "import py_wsi\n",
    "import py_wsi.imagepy_toolkit as tk\n",
    "import matplotlib.pyplot as plt\n",
    "import scipy.misc\n",
    "import py_wsi.patch_reader as pr\n",
    "from openslide import open_slide  \n",
    "from openslide.deepzoom import DeepZoomGenerator\n",
    "from glob import glob\n",
    "from xml.dom import minidom\n",
    "from shapely.geometry import Polygon, Point\n",
    "import time\n",
    "import imageio\n",
    "import numpy as np\n",
    "import gc\n",
    "from keras.applications.imagenet_utils import preprocess_input\n",
    "from keras.preprocessing import image\n",
    "from keras.layers import  Conv2D, MaxPooling2D, Dense, Activation, Flatten, Dropout, UpSampling2D, Input\n",
    "from keras.models import Sequential, Model\n",
    "import cv2\n",
    "import os\n",
    "from sklearn.manifold import TSNE"
   ]
  },
  {
   "cell_type": "code",
   "execution_count": 2,
   "metadata": {},
   "outputs": [],
   "source": [
    "def get_sample_for_testing(path, no_samples):\n",
    "    filepaths = os.listdir(path)\n",
    "    no_cancer = []\n",
    "    cancer = []\n",
    "    samples = 0\n",
    "    sample = 0\n",
    "    while sample < no_samples and samples < len(filepaths):\n",
    "        paths_to_no_cancer = os.path.join(os.path.join(path, filepaths[samples]), \"0\")\n",
    "        paths_to_cancer = os.path.join(os.path.join(path, filepaths[samples]), \"1\")\n",
    "        \n",
    "        patient_samples_no_cancer = os.listdir(paths_to_no_cancer)\n",
    "        patient_samples_with_cancer = os.listdir(paths_to_cancer)\n",
    "        \n",
    "        each_patch = 0\n",
    "        while each_patch < len(patient_samples_no_cancer) and each_patch < len(patient_samples_with_cancer)  and sample < no_samples:\n",
    "            no_cancer.append(cv2.resize(cv2.imread(os.path.join(paths_to_no_cancer,patient_samples_no_cancer[each_patch])), (50,50), interpolation=cv2.INTER_CUBIC))\n",
    "            cancer.append(cv2.resize(cv2.imread(os.path.join(paths_to_cancer,patient_samples_with_cancer[each_patch])), (50,50), interpolation=cv2.INTER_CUBIC))\n",
    "            sample += 1\n",
    "            each_patch += 1\n",
    "        samples += 1\n",
    "    return no_cancer, cancer"
   ]
  },
  {
   "cell_type": "code",
   "execution_count": 3,
   "metadata": {},
   "outputs": [],
   "source": [
    "no_cancer, cancer = get_sample_for_testing(\"data\", 12000)"
   ]
  },
  {
   "cell_type": "code",
   "execution_count": 4,
   "metadata": {},
   "outputs": [
    {
     "data": {
      "text/plain": [
       "((12000, 50, 50, 3), (12000, 50, 50, 3))"
      ]
     },
     "execution_count": 4,
     "metadata": {},
     "output_type": "execute_result"
    }
   ],
   "source": [
    "no_cancer = np.array(no_cancer)\n",
    "cancer = np.array(cancer)\n",
    "no_cancer = no_cancer/255.0\n",
    "cancer = cancer/255.0\n",
    "cancer.shape, no_cancer.shape"
   ]
  },
  {
   "cell_type": "code",
   "execution_count": 5,
   "metadata": {},
   "outputs": [
    {
     "data": {
      "text/plain": [
       "(24000, 50, 50, 3)"
      ]
     },
     "execution_count": 5,
     "metadata": {},
     "output_type": "execute_result"
    }
   ],
   "source": [
    "data = np.row_stack([cancer, no_cancer])\n",
    "data.shape"
   ]
  },
  {
   "cell_type": "code",
   "execution_count": 6,
   "metadata": {},
   "outputs": [
    {
     "data": {
      "text/plain": [
       "7"
      ]
     },
     "execution_count": 6,
     "metadata": {},
     "output_type": "execute_result"
    }
   ],
   "source": [
    "del no_cancer, cancer\n",
    "gc.collect()"
   ]
  },
  {
   "cell_type": "code",
   "execution_count": 7,
   "metadata": {},
   "outputs": [
    {
     "data": {
      "text/plain": [
       "24000"
      ]
     },
     "execution_count": 7,
     "metadata": {},
     "output_type": "execute_result"
    }
   ],
   "source": [
    "y = [1]*12000\n",
    "y.extend([0]*12000)\n",
    "len(y)"
   ]
  },
  {
   "cell_type": "code",
   "execution_count": 8,
   "metadata": {},
   "outputs": [],
   "source": [
    "y = np.array(y)"
   ]
  },
  {
   "cell_type": "code",
   "execution_count": 9,
   "metadata": {},
   "outputs": [],
   "source": [
    "labels = y.copy()"
   ]
  },
  {
   "cell_type": "code",
   "execution_count": null,
   "metadata": {},
   "outputs": [],
   "source": []
  },
  {
   "cell_type": "code",
   "execution_count": 10,
   "metadata": {},
   "outputs": [],
   "source": [
    "def get_model():\n",
    "    model = Sequential()\n",
    "    model.add(Conv2D(64, (3, 3), input_shape=(50, 50, 3)))\n",
    "    model.add(Activation('relu'))\n",
    "    model.add(MaxPooling2D(pool_size=(2, 2)))\n",
    "\n",
    "    model.add(Conv2D(32, (3, 3)))\n",
    "    model.add(Activation('relu'))\n",
    "    model.add(MaxPooling2D(pool_size=(2, 2)))\n",
    "\n",
    "    model.add(Conv2D(16, (3, 3)))\n",
    "    model.add(Activation('relu'))\n",
    "    model.add(MaxPooling2D(pool_size=(2, 2)))\n",
    "\n",
    "    model.add(Flatten())  \n",
    "    model.add(Dense(16))\n",
    "    model.add(Activation('relu'))\n",
    "    model.add(Dropout(0.3))\n",
    "    model.add(Dense(1))\n",
    "\n",
    "    model.add(Activation('sigmoid'))\n",
    "\n",
    "    model.compile(loss='binary_crossentropy',optimizer='adam',metrics=['accuracy'])\n",
    "\n",
    "    return model"
   ]
  },
  {
   "cell_type": "code",
   "execution_count": 11,
   "metadata": {},
   "outputs": [],
   "source": [
    "not_converged = True\n",
    "iter_No = 0\n",
    "max_iter = 300"
   ]
  },
  {
   "cell_type": "code",
   "execution_count": 12,
   "metadata": {
    "scrolled": true
   },
   "outputs": [
    {
     "name": "stdout",
     "output_type": "stream",
     "text": [
      "Epoch 1/2\n",
      "24000/24000 [==============================] - 6s 268us/step - loss: 0.6075 - acc: 0.6713\n",
      "Epoch 2/2\n",
      "24000/24000 [==============================] - 5s 212us/step - loss: 0.5211 - acc: 0.7582\n",
      "###################################\n",
      "###################################\n",
      "###################################\n",
      "###################################\n",
      "ITERATION NO  1\n",
      "Updated Values  2305\n",
      "Accuracy 0.9039583333333333\n",
      "8610  Should be Dropped\n",
      "Dropped Patches Till Now  8610\n",
      "Epoch 1/2\n",
      "15390/15390 [==============================] - 4s 239us/step - loss: 0.2007 - acc: 0.9072\n",
      "Epoch 2/2\n",
      "15390/15390 [==============================] - 3s 224us/step - loss: 0.0331 - acc: 0.9927\n",
      "###################################\n",
      "###################################\n",
      "###################################\n",
      "###################################\n",
      "ITERATION NO  2\n",
      "Updated Values  73\n",
      "Accuracy 0.8474333983105913\n",
      "175  Should be Dropped\n",
      "Dropped Patches Till Now  8785\n",
      "Epoch 1/2\n",
      "15215/15215 [==============================] - 4s 249us/step - loss: 0.3424 - acc: 0.8229\n",
      "Epoch 2/2\n",
      "15215/15215 [==============================] - 3s 220us/step - loss: 0.0713 - acc: 0.9800\n",
      "###################################\n",
      "###################################\n",
      "###################################\n",
      "###################################\n",
      "ITERATION NO  3\n",
      "Updated Values  35\n",
      "Accuracy 0.8479132435096943\n",
      "42  Should be Dropped\n",
      "Dropped Patches Till Now  8827\n",
      "Epoch 1/2\n",
      "15173/15173 [==============================] - 4s 247us/step - loss: 0.2735 - acc: 0.8683\n",
      "Epoch 2/2\n",
      "15173/15173 [==============================] - 3s 219us/step - loss: 0.0446 - acc: 0.9908\n",
      "###################################\n",
      "###################################\n",
      "###################################\n",
      "###################################\n",
      "ITERATION NO  4\n",
      "Updated Values  26\n",
      "Accuracy 0.8480195083371779\n",
      "43  Should be Dropped\n",
      "Dropped Patches Till Now  8870\n",
      "Epoch 1/2\n",
      "15130/15130 [==============================] - 4s 244us/step - loss: 0.2389 - acc: 0.8835\n",
      "Epoch 2/2\n",
      "15130/15130 [==============================] - 3s 213us/step - loss: 0.0173 - acc: 0.9941\n",
      "###################################\n",
      "###################################\n",
      "###################################\n",
      "###################################\n",
      "ITERATION NO  5\n",
      "Updated Values  27\n",
      "Accuracy 0.8470588235294118\n",
      "34  Should be Dropped\n",
      "Dropped Patches Till Now  8904\n",
      "Epoch 1/2\n",
      "15096/15096 [==============================] - 4s 247us/step - loss: 0.2685 - acc: 0.8694\n",
      "Epoch 2/2\n",
      "15096/15096 [==============================] - 3s 212us/step - loss: 0.0943 - acc: 0.9734\n",
      "###################################\n",
      "###################################\n",
      "###################################\n",
      "###################################\n",
      "ITERATION NO  6\n",
      "Updated Values  3\n",
      "Accuracy 0.8472443031266561\n",
      "35  Should be Dropped\n",
      "Dropped Patches Till Now  8939\n",
      "Epoch 1/2\n",
      "15061/15061 [==============================] - 4s 257us/step - loss: 0.2758 - acc: 0.8551\n",
      "Epoch 2/2\n",
      "15061/15061 [==============================] - 3s 211us/step - loss: 0.0102 - acc: 0.9977\n",
      "###################################\n",
      "###################################\n",
      "###################################\n",
      "###################################\n",
      "ITERATION NO  7\n",
      "Updated Values  5\n",
      "Accuracy 0.8480844565433903\n",
      "6  Should be Dropped\n",
      "Dropped Patches Till Now  8945\n",
      "Epoch 1/2\n",
      "15055/15055 [==============================] - 4s 256us/step - loss: 0.2370 - acc: 0.8909\n",
      "Epoch 2/2\n",
      "15055/15055 [==============================] - 3s 215us/step - loss: 0.0174 - acc: 0.9977\n",
      "###################################\n",
      "###################################\n",
      "###################################\n",
      "###################################\n",
      "ITERATION NO  8\n",
      "Updated Values  5\n",
      "Accuracy 0.8482896047824643\n",
      "6  Should be Dropped\n",
      "Dropped Patches Till Now  8951\n",
      "Epoch 1/2\n",
      "15049/15049 [==============================] - 4s 258us/step - loss: 0.3293 - acc: 0.8258\n",
      "Epoch 2/2\n",
      "15049/15049 [==============================] - 3s 214us/step - loss: 0.0731 - acc: 0.9801\n",
      "###################################\n",
      "###################################\n",
      "###################################\n",
      "###################################\n",
      "ITERATION NO  9\n",
      "Updated Values  9\n",
      "Accuracy 0.8482291182138348\n",
      "250  Should be Dropped\n",
      "Dropped Patches Till Now  9201\n",
      "Epoch 1/2\n",
      "14799/14799 [==============================] - 4s 265us/step - loss: 0.1942 - acc: 0.9082\n",
      "Epoch 2/2\n",
      "14799/14799 [==============================] - 3s 220us/step - loss: 0.0129 - acc: 0.9967\n",
      "###################################\n",
      "###################################\n",
      "###################################\n",
      "###################################\n",
      "ITERATION NO  10\n",
      "Updated Values  4\n",
      "Accuracy 0.848030272315697\n",
      "3  Should be Dropped\n",
      "Dropped Patches Till Now  9204\n",
      "Epoch 1/2\n",
      "14796/14796 [==============================] - 4s 267us/step - loss: 0.2279 - acc: 0.8853\n",
      "Epoch 2/2\n",
      "14796/14796 [==============================] - 3s 216us/step - loss: 0.0080 - acc: 0.9993\n",
      "###################################\n",
      "###################################\n",
      "###################################\n",
      "###################################\n",
      "ITERATION NO  11\n",
      "Updated Values  0\n",
      "Accuracy 0.8482022168153555\n",
      "3  Should be Dropped\n",
      "Dropped Patches Till Now  9207\n"
     ]
    }
   ],
   "source": [
    "while not_converged and iter_No < max_iter:\n",
    "    model = get_model()\n",
    "    model.fit(data, labels, batch_size=128, epochs=2, shuffle=True)\n",
    "    pred = model.predict_proba(data)\n",
    "    pred = pred[:,0]\n",
    "    prevLabels = labels.copy()\n",
    "    labels[pred>=0.70] = 1\n",
    "    labels[pred<=0.30] = 0\n",
    "    print (\"###################################\")\n",
    "    print (\"###################################\")\n",
    "    print (\"###################################\")\n",
    "    print (\"###################################\")\n",
    "    print (\"ITERATION NO \" ,iter_No+1)\n",
    "    print (\"Updated Values \",prevLabels[prevLabels!=labels].shape[0])\n",
    "    print (\"Accuracy\", (y[y==labels].shape[0])/float(labels.shape[0]))\n",
    "    if prevLabels[prevLabels!=labels].shape[0] == 0:\n",
    "        not_converged = False\n",
    "    \n",
    "    temp = pred[pred<0.70]\n",
    "    temp = temp[temp>0.30]\n",
    "    print (temp.shape[0], \" Should be Dropped\")\n",
    "    temp = pred<0.70\n",
    "    temp1 = pred>0.30\n",
    "    temp = temp*temp1\n",
    "    temp = ~temp\n",
    "    data = data[temp]\n",
    "    y = y[temp]\n",
    "    labels = labels[temp]\n",
    "    \n",
    "    print (\"Dropped Patches Till Now \", 24000 - data.shape[0])\n",
    "    iter_No += 1"
   ]
  },
  {
   "cell_type": "code",
   "execution_count": 15,
   "metadata": {},
   "outputs": [
    {
     "name": "stdout",
     "output_type": "stream",
     "text": [
      "(array([0, 1]), array([9724, 5069]))\n"
     ]
    }
   ],
   "source": [
    "print (np.unique(labels, return_counts=True))"
   ]
  },
  {
   "cell_type": "code",
   "execution_count": 16,
   "metadata": {},
   "outputs": [
    {
     "name": "stdout",
     "output_type": "stream",
     "text": [
      "(array([0, 1]), array([8489, 6304]))\n"
     ]
    }
   ],
   "source": [
    "print (np.unique(y, return_counts=True))"
   ]
  },
  {
   "cell_type": "code",
   "execution_count": null,
   "metadata": {},
   "outputs": [],
   "source": []
  }
 ],
 "metadata": {
  "kernelspec": {
   "display_name": "Python 3",
   "language": "python",
   "name": "python3"
  },
  "language_info": {
   "codemirror_mode": {
    "name": "ipython",
    "version": 3
   },
   "file_extension": ".py",
   "mimetype": "text/x-python",
   "name": "python",
   "nbconvert_exporter": "python",
   "pygments_lexer": "ipython3",
   "version": "3.6.6"
  }
 },
 "nbformat": 4,
 "nbformat_minor": 2
}
